{
 "cells": [
  {
   "cell_type": "code",
   "execution_count": 6,
   "metadata": {},
   "outputs": [],
   "source": [
    "import pandas as pd\n",
    "import re\n",
    "from datasets import Dataset"
   ]
  },
  {
   "cell_type": "code",
   "execution_count": 3,
   "metadata": {},
   "outputs": [
    {
     "data": {
      "text/html": [
       "<div>\n",
       "<style scoped>\n",
       "    .dataframe tbody tr th:only-of-type {\n",
       "        vertical-align: middle;\n",
       "    }\n",
       "\n",
       "    .dataframe tbody tr th {\n",
       "        vertical-align: top;\n",
       "    }\n",
       "\n",
       "    .dataframe thead th {\n",
       "        text-align: right;\n",
       "    }\n",
       "</style>\n",
       "<table border=\"1\" class=\"dataframe\">\n",
       "  <thead>\n",
       "    <tr style=\"text-align: right;\">\n",
       "      <th></th>\n",
       "      <th>name</th>\n",
       "      <th>line</th>\n",
       "    </tr>\n",
       "  </thead>\n",
       "  <tbody>\n",
       "    <tr>\n",
       "      <th>0</th>\n",
       "      <td>Naruto</td>\n",
       "      <td>(Laughing) Give it up. (Shows the stone faces...</td>\n",
       "    </tr>\n",
       "    <tr>\n",
       "      <th>1</th>\n",
       "      <td>Hiruzen</td>\n",
       "      <td>(Turns away from his writing) I hope you’re n...</td>\n",
       "    </tr>\n",
       "    <tr>\n",
       "      <th>2</th>\n",
       "      <td>Ninja</td>\n",
       "      <td>Naseer Sabah</td>\n",
       "    </tr>\n",
       "    <tr>\n",
       "      <th>3</th>\n",
       "      <td>Ninja</td>\n",
       "      <td>is the best person on earth</td>\n",
       "    </tr>\n",
       "    <tr>\n",
       "      <th>4</th>\n",
       "      <td>Naruto</td>\n",
       "      <td>muah</td>\n",
       "    </tr>\n",
       "  </tbody>\n",
       "</table>\n",
       "</div>"
      ],
      "text/plain": [
       "      name                                               line\n",
       "0   Naruto   (Laughing) Give it up. (Shows the stone faces...\n",
       "1  Hiruzen   (Turns away from his writing) I hope you’re n...\n",
       "2    Ninja                                       Naseer Sabah\n",
       "3    Ninja                        is the best person on earth\n",
       "4   Naruto                                               muah"
      ]
     },
     "execution_count": 3,
     "metadata": {},
     "output_type": "execute_result"
    }
   ],
   "source": [
    "# Load Dataset\n",
    "naruto_trans_df = pd.read_csv('data/naruto.csv')\n",
    "naruto_trans_df.head()"
   ]
  },
  {
   "cell_type": "code",
   "execution_count": 4,
   "metadata": {},
   "outputs": [],
   "source": [
    "def remove_paranthesis(text):\n",
    "    result = re.sub(r'\\(.*?\\)', '', text)\n",
    "    return result\n",
    "    "
   ]
  },
  {
   "cell_type": "code",
   "execution_count": 7,
   "metadata": {},
   "outputs": [],
   "source": [
    "naruto_trans_df['line'] = naruto_trans_df['line'].apply(remove_paranthesis)"
   ]
  },
  {
   "cell_type": "code",
   "execution_count": 9,
   "metadata": {},
   "outputs": [
    {
     "data": {
      "text/html": [
       "<div>\n",
       "<style scoped>\n",
       "    .dataframe tbody tr th:only-of-type {\n",
       "        vertical-align: middle;\n",
       "    }\n",
       "\n",
       "    .dataframe tbody tr th {\n",
       "        vertical-align: top;\n",
       "    }\n",
       "\n",
       "    .dataframe thead th {\n",
       "        text-align: right;\n",
       "    }\n",
       "</style>\n",
       "<table border=\"1\" class=\"dataframe\">\n",
       "  <thead>\n",
       "    <tr style=\"text-align: right;\">\n",
       "      <th></th>\n",
       "      <th>name</th>\n",
       "      <th>line</th>\n",
       "    </tr>\n",
       "  </thead>\n",
       "  <tbody>\n",
       "    <tr>\n",
       "      <th>0</th>\n",
       "      <td>Naruto</td>\n",
       "      <td>Give it up.  You’re just bent, because you d...</td>\n",
       "    </tr>\n",
       "    <tr>\n",
       "      <th>1</th>\n",
       "      <td>Hiruzen</td>\n",
       "      <td>I hope you’re not bothering me with some tri...</td>\n",
       "    </tr>\n",
       "    <tr>\n",
       "      <th>2</th>\n",
       "      <td>Ninja</td>\n",
       "      <td>Naseer Sabah</td>\n",
       "    </tr>\n",
       "    <tr>\n",
       "      <th>3</th>\n",
       "      <td>Ninja</td>\n",
       "      <td>is the best person on earth</td>\n",
       "    </tr>\n",
       "    <tr>\n",
       "      <th>4</th>\n",
       "      <td>Naruto</td>\n",
       "      <td>muah</td>\n",
       "    </tr>\n",
       "  </tbody>\n",
       "</table>\n",
       "</div>"
      ],
      "text/plain": [
       "      name                                               line\n",
       "0   Naruto    Give it up.  You’re just bent, because you d...\n",
       "1  Hiruzen    I hope you’re not bothering me with some tri...\n",
       "2    Ninja                                       Naseer Sabah\n",
       "3    Ninja                        is the best person on earth\n",
       "4   Naruto                                               muah"
      ]
     },
     "execution_count": 9,
     "metadata": {},
     "output_type": "execute_result"
    }
   ],
   "source": [
    "naruto_trans_df.head()"
   ]
  },
  {
   "cell_type": "code",
   "execution_count": 10,
   "metadata": {},
   "outputs": [],
   "source": [
    "naruto_trans_df['number_of_words'] = naruto_trans_df['line'].str.strip().str.split(\" \")\n",
    "naruto_trans_df['number_of_words'] = naruto_trans_df['number_of_words'].apply(lambda x: len(x))"
   ]
  },
  {
   "cell_type": "code",
   "execution_count": 11,
   "metadata": {},
   "outputs": [
    {
     "data": {
      "text/html": [
       "<div>\n",
       "<style scoped>\n",
       "    .dataframe tbody tr th:only-of-type {\n",
       "        vertical-align: middle;\n",
       "    }\n",
       "\n",
       "    .dataframe tbody tr th {\n",
       "        vertical-align: top;\n",
       "    }\n",
       "\n",
       "    .dataframe thead th {\n",
       "        text-align: right;\n",
       "    }\n",
       "</style>\n",
       "<table border=\"1\" class=\"dataframe\">\n",
       "  <thead>\n",
       "    <tr style=\"text-align: right;\">\n",
       "      <th></th>\n",
       "      <th>name</th>\n",
       "      <th>line</th>\n",
       "      <th>number_of_words</th>\n",
       "    </tr>\n",
       "  </thead>\n",
       "  <tbody>\n",
       "    <tr>\n",
       "      <th>0</th>\n",
       "      <td>Naruto</td>\n",
       "      <td>Give it up.  You’re just bent, because you d...</td>\n",
       "      <td>26</td>\n",
       "    </tr>\n",
       "    <tr>\n",
       "      <th>1</th>\n",
       "      <td>Hiruzen</td>\n",
       "      <td>I hope you’re not bothering me with some tri...</td>\n",
       "      <td>16</td>\n",
       "    </tr>\n",
       "    <tr>\n",
       "      <th>2</th>\n",
       "      <td>Ninja</td>\n",
       "      <td>Naseer Sabah</td>\n",
       "      <td>2</td>\n",
       "    </tr>\n",
       "    <tr>\n",
       "      <th>3</th>\n",
       "      <td>Ninja</td>\n",
       "      <td>is the best person on earth</td>\n",
       "      <td>6</td>\n",
       "    </tr>\n",
       "    <tr>\n",
       "      <th>4</th>\n",
       "      <td>Naruto</td>\n",
       "      <td>muah</td>\n",
       "      <td>1</td>\n",
       "    </tr>\n",
       "  </tbody>\n",
       "</table>\n",
       "</div>"
      ],
      "text/plain": [
       "      name                                               line  number_of_words\n",
       "0   Naruto    Give it up.  You’re just bent, because you d...               26\n",
       "1  Hiruzen    I hope you’re not bothering me with some tri...               16\n",
       "2    Ninja                                       Naseer Sabah                2\n",
       "3    Ninja                        is the best person on earth                6\n",
       "4   Naruto                                               muah                1"
      ]
     },
     "execution_count": 11,
     "metadata": {},
     "output_type": "execute_result"
    }
   ],
   "source": [
    "naruto_trans_df.head()"
   ]
  },
  {
   "cell_type": "code",
   "execution_count": 12,
   "metadata": {},
   "outputs": [],
   "source": [
    "naruto_trans_df['naruto_response_flag'] = 0\n",
    "naruto_trans_df.loc[(naruto_trans_df['name'] == 'Naruto')&(naruto_trans_df['number_of_words']>5), 'naruto_response_flag']=1"
   ]
  },
  {
   "cell_type": "code",
   "execution_count": 13,
   "metadata": {},
   "outputs": [
    {
     "data": {
      "text/html": [
       "<div>\n",
       "<style scoped>\n",
       "    .dataframe tbody tr th:only-of-type {\n",
       "        vertical-align: middle;\n",
       "    }\n",
       "\n",
       "    .dataframe tbody tr th {\n",
       "        vertical-align: top;\n",
       "    }\n",
       "\n",
       "    .dataframe thead th {\n",
       "        text-align: right;\n",
       "    }\n",
       "</style>\n",
       "<table border=\"1\" class=\"dataframe\">\n",
       "  <thead>\n",
       "    <tr style=\"text-align: right;\">\n",
       "      <th></th>\n",
       "      <th>name</th>\n",
       "      <th>line</th>\n",
       "      <th>number_of_words</th>\n",
       "      <th>naruto_response_flag</th>\n",
       "    </tr>\n",
       "  </thead>\n",
       "  <tbody>\n",
       "    <tr>\n",
       "      <th>0</th>\n",
       "      <td>Naruto</td>\n",
       "      <td>Give it up.  You’re just bent, because you d...</td>\n",
       "      <td>26</td>\n",
       "      <td>1</td>\n",
       "    </tr>\n",
       "    <tr>\n",
       "      <th>1</th>\n",
       "      <td>Hiruzen</td>\n",
       "      <td>I hope you’re not bothering me with some tri...</td>\n",
       "      <td>16</td>\n",
       "      <td>0</td>\n",
       "    </tr>\n",
       "    <tr>\n",
       "      <th>2</th>\n",
       "      <td>Ninja</td>\n",
       "      <td>Naseer Sabah</td>\n",
       "      <td>2</td>\n",
       "      <td>0</td>\n",
       "    </tr>\n",
       "    <tr>\n",
       "      <th>3</th>\n",
       "      <td>Ninja</td>\n",
       "      <td>is the best person on earth</td>\n",
       "      <td>6</td>\n",
       "      <td>0</td>\n",
       "    </tr>\n",
       "    <tr>\n",
       "      <th>4</th>\n",
       "      <td>Naruto</td>\n",
       "      <td>muah</td>\n",
       "      <td>1</td>\n",
       "      <td>0</td>\n",
       "    </tr>\n",
       "  </tbody>\n",
       "</table>\n",
       "</div>"
      ],
      "text/plain": [
       "      name                                               line  \\\n",
       "0   Naruto    Give it up.  You’re just bent, because you d...   \n",
       "1  Hiruzen    I hope you’re not bothering me with some tri...   \n",
       "2    Ninja                                       Naseer Sabah   \n",
       "3    Ninja                        is the best person on earth   \n",
       "4   Naruto                                               muah   \n",
       "\n",
       "   number_of_words  naruto_response_flag  \n",
       "0               26                     1  \n",
       "1               16                     0  \n",
       "2                2                     0  \n",
       "3                6                     0  \n",
       "4                1                     0  "
      ]
     },
     "execution_count": 13,
     "metadata": {},
     "output_type": "execute_result"
    }
   ],
   "source": [
    "naruto_trans_df.head()"
   ]
  },
  {
   "cell_type": "code",
   "execution_count": 14,
   "metadata": {},
   "outputs": [],
   "source": [
    "indexes_to_take = list(naruto_trans_df[(naruto_trans_df['naruto_response_flag']==1)&(naruto_trans_df.index>0)].index)\n"
   ]
  },
  {
   "cell_type": "code",
   "execution_count": 15,
   "metadata": {},
   "outputs": [
    {
     "data": {
      "text/plain": [
       "[6,\n",
       " 28,\n",
       " 30,\n",
       " 32,\n",
       " 36,\n",
       " 38,\n",
       " 40,\n",
       " 46,\n",
       " 47,\n",
       " 63,\n",
       " 77,\n",
       " 86,\n",
       " 88,\n",
       " 90,\n",
       " 96,\n",
       " 106,\n",
       " 111,\n",
       " 136,\n",
       " 142,\n",
       " 144,\n",
       " 151]"
      ]
     },
     "execution_count": 15,
     "metadata": {},
     "output_type": "execute_result"
    }
   ],
   "source": [
    "indexes_to_take"
   ]
  },
  {
   "cell_type": "code",
   "execution_count": 16,
   "metadata": {},
   "outputs": [],
   "source": [
    "system_prompt=\"\"\" You are Naruto from the anime \"Naruto.\" Your response should reflect his personality\n",
    "and speech patterns!\"\"\"\n",
    "prompts=[]\n",
    "for ind in indexes_to_take:\n",
    "    prompt = system_prompt\n",
    "\n",
    "    prompt += naruto_trans_df.iloc[ind - 1]['line']\n",
    "    prompt += '\\n'\n",
    "    prompt += naruto_trans_df.iloc[ind]['line']\n",
    "    prompts.append(prompt)"
   ]
  },
  {
   "cell_type": "code",
   "execution_count": 17,
   "metadata": {},
   "outputs": [
    {
     "name": "stdout",
     "output_type": "stream",
     "text": [
      "[' You are Naruto from the anime \"Naruto.\" Your response should reflect his personality\\nand speech patterns!  Oh yeah, Naruto!?\\n Where’d you come from, Iruka Sensei!? What are you doing here?', ' You are Naruto from the anime \"Naruto.\" Your response should reflect his personality\\nand speech patterns! You’re not going home till you’ve cleaned off every single drop of paint.\\n  So what? It’s not like there’s anyone waiting at home for me. ']\n"
     ]
    }
   ],
   "source": [
    "print(prompts[:2])"
   ]
  },
  {
   "cell_type": "code",
   "execution_count": 18,
   "metadata": {},
   "outputs": [
    {
     "data": {
      "text/html": [
       "<div>\n",
       "<style scoped>\n",
       "    .dataframe tbody tr th:only-of-type {\n",
       "        vertical-align: middle;\n",
       "    }\n",
       "\n",
       "    .dataframe tbody tr th {\n",
       "        vertical-align: top;\n",
       "    }\n",
       "\n",
       "    .dataframe thead th {\n",
       "        text-align: right;\n",
       "    }\n",
       "</style>\n",
       "<table border=\"1\" class=\"dataframe\">\n",
       "  <thead>\n",
       "    <tr style=\"text-align: right;\">\n",
       "      <th></th>\n",
       "      <th>prompt</th>\n",
       "    </tr>\n",
       "  </thead>\n",
       "  <tbody>\n",
       "    <tr>\n",
       "      <th>0</th>\n",
       "      <td>You are Naruto from the anime \"Naruto.\" Your ...</td>\n",
       "    </tr>\n",
       "    <tr>\n",
       "      <th>1</th>\n",
       "      <td>You are Naruto from the anime \"Naruto.\" Your ...</td>\n",
       "    </tr>\n",
       "    <tr>\n",
       "      <th>2</th>\n",
       "      <td>You are Naruto from the anime \"Naruto.\" Your ...</td>\n",
       "    </tr>\n",
       "    <tr>\n",
       "      <th>3</th>\n",
       "      <td>You are Naruto from the anime \"Naruto.\" Your ...</td>\n",
       "    </tr>\n",
       "    <tr>\n",
       "      <th>4</th>\n",
       "      <td>You are Naruto from the anime \"Naruto.\" Your ...</td>\n",
       "    </tr>\n",
       "  </tbody>\n",
       "</table>\n",
       "</div>"
      ],
      "text/plain": [
       "                                              prompt\n",
       "0   You are Naruto from the anime \"Naruto.\" Your ...\n",
       "1   You are Naruto from the anime \"Naruto.\" Your ...\n",
       "2   You are Naruto from the anime \"Naruto.\" Your ...\n",
       "3   You are Naruto from the anime \"Naruto.\" Your ...\n",
       "4   You are Naruto from the anime \"Naruto.\" Your ..."
      ]
     },
     "execution_count": 18,
     "metadata": {},
     "output_type": "execute_result"
    }
   ],
   "source": [
    "df = pd.DataFrame({\"prompt\": prompts})\n",
    "df.head()"
   ]
  }
 ],
 "metadata": {
  "kernelspec": {
   "display_name": "venv",
   "language": "python",
   "name": "python3"
  },
  "language_info": {
   "codemirror_mode": {
    "name": "ipython",
    "version": 3
   },
   "file_extension": ".py",
   "mimetype": "text/x-python",
   "name": "python",
   "nbconvert_exporter": "python",
   "pygments_lexer": "ipython3",
   "version": "3.10.0"
  }
 },
 "nbformat": 4,
 "nbformat_minor": 2
}
